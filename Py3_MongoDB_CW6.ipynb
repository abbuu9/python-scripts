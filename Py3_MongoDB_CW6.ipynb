{
 "cells": [
  {
   "cell_type": "markdown",
   "metadata": {},
   "source": [
    "# MongoDB: CW6"
   ]
  },
  {
   "cell_type": "markdown",
   "metadata": {},
   "source": [
    "### 1. Connecting to database and getting the collections"
   ]
  },
  {
   "cell_type": "code",
   "execution_count": 17,
   "metadata": {
    "collapsed": true
   },
   "outputs": [],
   "source": [
    "#Running pymongo\n",
    "from pymongo import MongoClient\n",
    "from datetime import datetime\n",
    "import pymongo"
   ]
  },
  {
   "cell_type": "code",
   "execution_count": 9,
   "metadata": {
    "collapsed": true
   },
   "outputs": [],
   "source": [
    "client=MongoClient()"
   ]
  },
  {
   "cell_type": "code",
   "execution_count": 4,
   "metadata": {
    "collapsed": true
   },
   "outputs": [],
   "source": [
    "#Connecting to local host\n",
    "client=MongoClient(host=['localhost:27017'])"
   ]
  },
  {
   "cell_type": "code",
   "execution_count": 5,
   "metadata": {
    "collapsed": true
   },
   "outputs": [],
   "source": [
    "#Retrieving restaurant database\n",
    "db1=client.get_database(\"test\")"
   ]
  },
  {
   "cell_type": "code",
   "execution_count": 6,
   "metadata": {},
   "outputs": [
    {
     "data": {
      "text/plain": [
       "['restaurants']"
      ]
     },
     "execution_count": 6,
     "metadata": {},
     "output_type": "execute_result"
    }
   ],
   "source": [
    "#To get the name of the collection (The table in mysql)\n",
    "db1.collection_names()"
   ]
  },
  {
   "cell_type": "markdown",
   "metadata": {},
   "source": [
    "### 2. Inserting documents and querying"
   ]
  },
  {
   "cell_type": "markdown",
   "metadata": {},
   "source": [
    "##### 2.1. Insert a new document in 'Restaurants' collection"
   ]
  },
  {
   "cell_type": "code",
   "execution_count": 10,
   "metadata": {
    "collapsed": true
   },
   "outputs": [],
   "source": [
    "\n",
    "from datetime import datetime\n",
    "result = db1.restaurants.insert_one(\n",
    "    {\n",
    "        \"address\": {\n",
    "            \"street\": \"2 Avenue\",\n",
    "            \"zipcode\": \"10075\",\n",
    "            \"building\": \"1480\",\n",
    "            \"coord\": [-73.9557413, 40.7720266]\n",
    "        },\n",
    "        \"borough\": \"Manhattan\",\n",
    "        \"cuisine\": \"Italian\",\n",
    "        \"grades\": [\n",
    "            {\n",
    "                \"date\": datetime.strptime(\"2014-10-01\", \"%Y-%m-%d\"),\n",
    "                \"grade\": \"A\",\n",
    "                \"score\": 11\n",
    "            },\n",
    "            {\n",
    "                \"date\": datetime.strptime(\"2014-01-16\", \"%Y-%m-%d\"),\n",
    "                \"grade\": \"B\",\n",
    "                \"score\": 17\n",
    "            }\n",
    "        ],\n",
    "        \"name\": \"Vella\",\n",
    "        \"restaurant_id\": \"41704620\"\n",
    "    }\n",
    ")"
   ]
  },
  {
   "cell_type": "code",
   "execution_count": 11,
   "metadata": {},
   "outputs": [
    {
     "data": {
      "text/plain": [
       "ObjectId('5a013325651c1e374c207f8d')"
      ]
     },
     "execution_count": 11,
     "metadata": {},
     "output_type": "execute_result"
    }
   ],
   "source": [
    "result.inserted_id"
   ]
  },
  {
   "cell_type": "markdown",
   "metadata": {},
   "source": [
    "##### 2.2. Write query to find all restaurants sorted by 'borough' field and then by 'zipcode'"
   ]
  },
  {
   "cell_type": "code",
   "execution_count": 153,
   "metadata": {
    "collapsed": true
   },
   "outputs": [],
   "source": [
    "query1 = db1.restaurants.find().sort([\n",
    "    (\"borough\", pymongo.ASCENDING),\n",
    "    (\"address.zipcode\", pymongo.ASCENDING)\n",
    "]).limit(5)"
   ]
  },
  {
   "cell_type": "code",
   "execution_count": 118,
   "metadata": {},
   "outputs": [
    {
     "name": "stdout",
     "output_type": "stream",
     "text": [
      "{'_id': ObjectId('59fea01a782d8c8fc234e2c6'), 'address': {'building': '650', 'coord': [-73.92537449999999, 40.8207116], 'street': 'Grand Concourse', 'zipcode': ''}, 'borough': 'Bronx', 'cuisine': 'Sandwiches', 'grades': [{'date': datetime.datetime(2014, 9, 30, 0, 0), 'grade': 'A', 'score': 7}], 'name': 'Subway#50497 (Cardinal Hayes High School)', 'restaurant_id': '50006048'}\n",
      "{'_id': ObjectId('59fea019782d8c8fc2348fcb'), 'address': {'building': '72', 'coord': [-73.92506, 40.8275556], 'street': 'East  161 Street', 'zipcode': '10451'}, 'borough': 'Bronx', 'cuisine': 'American', 'grades': [{'date': datetime.datetime(2014, 4, 15, 0, 0), 'grade': 'A', 'score': 9}, {'date': datetime.datetime(2013, 11, 14, 0, 0), 'grade': 'A', 'score': 4}, {'date': datetime.datetime(2013, 7, 29, 0, 0), 'grade': 'A', 'score': 10}, {'date': datetime.datetime(2012, 12, 31, 0, 0), 'grade': 'B', 'score': 15}, {'date': datetime.datetime(2012, 5, 30, 0, 0), 'grade': 'A', 'score': 13}, {'date': datetime.datetime(2012, 1, 9, 0, 0), 'grade': 'A', 'score': 10}, {'date': datetime.datetime(2011, 8, 15, 0, 0), 'grade': 'C', 'score': 37}], 'name': 'Yankee Tavern', 'restaurant_id': '40365499'}\n",
      "{'_id': ObjectId('59fea019782d8c8fc23492c9'), 'address': {'building': '101', 'coord': [-73.9243061, 40.8276297], 'street': 'East 161 Street', 'zipcode': '10451'}, 'borough': 'Bronx', 'cuisine': 'Latin (Cuban, Dominican, Puerto Rican, South & Central American)', 'grades': [{'date': datetime.datetime(2014, 4, 10, 0, 0), 'grade': 'A', 'score': 10}, {'date': datetime.datetime(2013, 10, 1, 0, 0), 'grade': 'A', 'score': 6}, {'date': datetime.datetime(2013, 4, 11, 0, 0), 'grade': 'B', 'score': 25}, {'date': datetime.datetime(2012, 10, 25, 0, 0), 'grade': 'A', 'score': 12}, {'date': datetime.datetime(2012, 10, 10, 0, 0), 'grade': 'P', 'score': 12}, {'date': datetime.datetime(2012, 5, 25, 0, 0), 'grade': 'B', 'score': 14}, {'date': datetime.datetime(2011, 9, 14, 0, 0), 'grade': 'B', 'score': 26}, {'date': datetime.datetime(2011, 4, 25, 0, 0), 'grade': 'C', 'score': 76}], 'name': 'El Molino Rojo Restaurant', 'restaurant_id': '40393688'}\n",
      "{'_id': ObjectId('59fea019782d8c8fc2349353'), 'address': {'building': '5167', 'coord': [-73.9252904, 40.828054], 'street': 'East  161 Street', 'zipcode': '10451'}, 'borough': 'Bronx', 'cuisine': 'Hamburgers', 'grades': [{'date': datetime.datetime(2014, 4, 10, 0, 0), 'grade': 'A', 'score': 12}, {'date': datetime.datetime(2013, 4, 9, 0, 0), 'grade': 'A', 'score': 4}, {'date': datetime.datetime(2012, 4, 30, 0, 0), 'grade': 'A', 'score': 10}, {'date': datetime.datetime(2011, 12, 27, 0, 0), 'grade': 'A', 'score': 12}], 'name': \"Mcdonald'S\", 'restaurant_id': '40396399'}\n",
      "{'_id': ObjectId('59fea019782d8c8fc23493e9'), 'address': {'building': '599', 'coord': [-73.9270544, 40.8197704], 'street': 'Grand Concourse', 'zipcode': '10451'}, 'borough': 'Bronx', 'cuisine': 'Hamburgers', 'grades': [{'date': datetime.datetime(2014, 2, 6, 0, 0), 'grade': 'A', 'score': 7}, {'date': datetime.datetime(2013, 9, 5, 0, 0), 'grade': 'A', 'score': 2}, {'date': datetime.datetime(2013, 3, 26, 0, 0), 'grade': 'A', 'score': 5}, {'date': datetime.datetime(2012, 10, 2, 0, 0), 'grade': 'A', 'score': 2}, {'date': datetime.datetime(2012, 7, 19, 0, 0), 'grade': 'A', 'score': 12}, {'date': datetime.datetime(2012, 3, 6, 0, 0), 'grade': 'A', 'score': 9}, {'date': datetime.datetime(2011, 10, 11, 0, 0), 'grade': 'A', 'score': 7}], 'name': \"Mcdonald'S\", 'restaurant_id': '40399778'}\n"
     ]
    }
   ],
   "source": [
    "for document in query1:\n",
    "    print(document)"
   ]
  },
  {
   "cell_type": "code",
   "execution_count": 128,
   "metadata": {},
   "outputs": [
    {
     "name": "stdout",
     "output_type": "stream",
     "text": [
      "Bronx , \n",
      "Bronx , 10451\n",
      "Bronx , 10451\n",
      "Bronx , 10451\n",
      "Bronx , 10451\n"
     ]
    }
   ],
   "source": [
    "for lista1 in query1:\n",
    "    print('{} {} {}'.format(lista1['borough'],\",\", lista1[\"address\"][\"zipcode\"]))"
   ]
  },
  {
   "cell_type": "markdown",
   "metadata": {},
   "source": [
    "##### 2.3 Write query to find italian cuisine restaurants for zipcode 10075"
   ]
  },
  {
   "cell_type": "code",
   "execution_count": 157,
   "metadata": {},
   "outputs": [],
   "source": [
    "query2=db1.restaurants.find({\"address.zipcode\":\"10075\"})"
   ]
  },
  {
   "cell_type": "code",
   "execution_count": 158,
   "metadata": {},
   "outputs": [
    {
     "name": "stdout",
     "output_type": "stream",
     "text": [
      "40369753 , American , 10075\n",
      "40369759 , American , 10075\n",
      "40372417 , Italian , 10075\n",
      "40376142 , Italian , 10075\n",
      "40386999 , Italian , 10075\n",
      "40387986 , American , 10075\n",
      "40390046 , French , 10075\n",
      "40391060 , American , 10075\n",
      "40398796 , Café/Coffee/Tea , 10075\n",
      "40402418 , American , 10075\n",
      "40512852 , American , 10075\n",
      "40560302 , Italian , 10075\n",
      "40573131 , Mexican , 10075\n",
      "40577928 , Japanese , 10075\n",
      "40602482 , Seafood , 10075\n",
      "40604004 , American , 10075\n",
      "40641437 , Italian , 10075\n",
      "40643138 , Italian , 10075\n",
      "40669257 , Chinese , 10075\n",
      "40692857 , Italian , 10075\n",
      "40718665 , Bakery , 10075\n",
      "40733386 , Japanese , 10075\n",
      "40746574 , American , 10075\n",
      "40759586 , Italian , 10075\n",
      "40790974 , Barbecue , 10075\n",
      "40825792 , Pizza/Italian , 10075\n",
      "40854486 , Italian , 10075\n",
      "40978159 , Vegetarian , 10075\n",
      "41030858 , Pizza , 10075\n",
      "41072936 , Bakery , 10075\n",
      "41078357 , Mediterranean , 10075\n",
      "41084188 , Italian , 10075\n",
      "41087832 , Soups & Sandwiches , 10075\n",
      "41097286 , American , 10075\n",
      "41117086 , Mexican , 10075\n",
      "41118091 , Sandwiches , 10075\n",
      "41120682 , Italian , 10075\n",
      "41175689 , Asian , 10075\n",
      "41188766 , Chinese/Japanese , 10075\n",
      "41243754 , American , 10075\n",
      "41245491 , Pizza , 10075\n",
      "41263780 , Sandwiches/Salads/Mixed Buffet , 10075\n",
      "41288311 , American , 10075\n",
      "41299922 , Ice Cream, Gelato, Yogurt, Ices , 10075\n",
      "41317385 , American , 10075\n",
      "41338090 , Italian , 10075\n",
      "41344446 , American , 10075\n",
      "41365332 , Donuts , 10075\n",
      "41404793 , Mediterranean , 10075\n",
      "41412075 , American , 10075\n",
      "41422914 , Bagels/Pretzels , 10075\n",
      "41480486 , Japanese , 10075\n",
      "41483315 , American , 10075\n",
      "41485509 , Delicatessen , 10075\n",
      "41508862 , Pizza , 10075\n",
      "41517703 , American , 10075\n",
      "41520588 , Vegetarian , 10075\n",
      "41523649 , Chinese , 10075\n",
      "41542801 , Thai , 10075\n",
      "41546041 , American , 10075\n",
      "41557600 , Greek , 10075\n",
      "41560774 , Mexican , 10075\n",
      "41570191 , Italian , 10075\n",
      "41599272 , Café/Coffee/Tea , 10075\n",
      "41609497 , Asian , 10075\n",
      "41610929 , Tex-Mex , 10075\n",
      "41637080 , Greek , 10075\n",
      "41650342 , Bakery , 10075\n",
      "41650568 , Chinese/Japanese , 10075\n",
      "41650784 , Bagels/Pretzels , 10075\n",
      "41660537 , American , 10075\n",
      "41670534 , Japanese , 10075\n",
      "41682198 , American , 10075\n",
      "41683431 , Indian , 10075\n",
      "41704189 , Pizza/Italian , 10075\n",
      "41704620 , Italian , 10075\n",
      "41709370 , Chinese/Japanese , 10075\n",
      "41711304 , American , 10075\n",
      "41717853 , American , 10075\n",
      "50000995 , American , 10075\n",
      "50001114 , American , 10075\n",
      "50001539 , Japanese , 10075\n",
      "50001762 , American , 10075\n",
      "50002031 , Café/Coffee/Tea , 10075\n",
      "50002876 , Bakery , 10075\n",
      "50004334 , Salads , 10075\n",
      "50004561 , Juice, Smoothies, Fruit Salads , 10075\n",
      "50005444 , Jewish/Kosher , 10075\n",
      "50005852 , Italian , 10075\n",
      "50008301 , Sandwiches , 10075\n",
      "50012132 , Tapas , 10075\n",
      "50014895 , Pizza , 10075\n",
      "50015081 , Chinese , 10075\n",
      "50015835 , Japanese , 10075\n",
      "50015990 , Other , 10075\n",
      "50016951 , French , 10075\n",
      "50017538 , Other , 10075\n",
      "50018368 , Other , 10075\n",
      "50018889 , Other , 10075\n",
      "41704620 , Italian , 10075\n"
     ]
    }
   ],
   "source": [
    "for lista2 in query2:\n",
    "    print('{} {} {} {} {}'.format(lista2[\"restaurant_id\"],\",\",lista2[\"cuisine\"],\",\",\n",
    "                                  lista2[\"address\"][\"zipcode\"]))"
   ]
  },
  {
   "cell_type": "code",
   "execution_count": null,
   "metadata": {
    "collapsed": true
   },
   "outputs": [],
   "source": []
  }
 ],
 "metadata": {
  "kernelspec": {
   "display_name": "Python [conda env:python3]",
   "language": "python",
   "name": "conda-env-python3-py"
  },
  "language_info": {
   "codemirror_mode": {
    "name": "ipython",
    "version": 3
   },
   "file_extension": ".py",
   "mimetype": "text/x-python",
   "name": "python",
   "nbconvert_exporter": "python",
   "pygments_lexer": "ipython3",
   "version": "3.6.3"
  }
 },
 "nbformat": 4,
 "nbformat_minor": 1
}
